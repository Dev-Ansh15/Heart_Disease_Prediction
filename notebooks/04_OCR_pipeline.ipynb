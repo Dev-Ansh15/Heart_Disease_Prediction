{
  "cells": [
    {
      "cell_type": "markdown",
      "metadata": {},
      "source": [
        "# OCR Image Processing\n",
        "Process medical reports and extract text using OCR utilities"
      ]
    },
    {
      "cell_type": "code",
      "execution_count": 8,
      "metadata": {},
      "outputs": [],
      "source": [
        "import sys, os\n",
        "sys.path.append(\"..\")\n",
        "from scripts import ocr_utils\n",
        "import matplotlib.pyplot as plt\n",
        "import cv2"
      ]
    },
    {
      "cell_type": "code",
      "execution_count": 9,
      "metadata": {},
      "outputs": [],
      "source": [
        "# Load test image\n",
        "image_path = \"../data/raw/other_sources/sample_medical_report.png\""
      ]
    },
    {
      "cell_type": "code",
      "execution_count": 10,
      "metadata": {},
      "outputs": [
        {
          "ename": "error",
          "evalue": "OpenCV(4.11.0) D:\\a\\opencv-python\\opencv-python\\opencv\\modules\\imgproc\\src\\color.cpp:199: error: (-215:Assertion failed) !_src.empty() in function 'cv::cvtColor'\n",
          "output_type": "error",
          "traceback": [
            "\u001b[31m---------------------------------------------------------------------------\u001b[39m",
            "\u001b[31merror\u001b[39m                                     Traceback (most recent call last)",
            "\u001b[36mCell\u001b[39m\u001b[36m \u001b[39m\u001b[32mIn[10]\u001b[39m\u001b[32m, line 2\u001b[39m\n\u001b[32m      1\u001b[39m \u001b[38;5;66;03m# Show preprocessed image\u001b[39;00m\n\u001b[32m----> \u001b[39m\u001b[32m2\u001b[39m processed = \u001b[43mocr_utils\u001b[49m\u001b[43m.\u001b[49m\u001b[43mpreprocess_image\u001b[49m\u001b[43m(\u001b[49m\u001b[43mimage_path\u001b[49m\u001b[43m)\u001b[49m\n\u001b[32m      3\u001b[39m plt.imshow(processed, cmap=\u001b[33m\"\u001b[39m\u001b[33mgray\u001b[39m\u001b[33m\"\u001b[39m)\n\u001b[32m      4\u001b[39m plt.title(\u001b[33m\"\u001b[39m\u001b[33mPreprocessed Image\u001b[39m\u001b[33m\"\u001b[39m)\n",
            "\u001b[36mFile \u001b[39m\u001b[32mc:\\Users\\acer\\Desktop\\heart_disease_project\\notebooks\\..\\scripts\\ocr_utils.py:15\u001b[39m, in \u001b[36mpreprocess_image\u001b[39m\u001b[34m(image_path)\u001b[39m\n\u001b[32m     13\u001b[39m \u001b[38;5;250m\u001b[39m\u001b[33;03m\"\"\"Preprocess image for OCR (grayscale, noise removal, thresholding).\"\"\"\u001b[39;00m\n\u001b[32m     14\u001b[39m img = cv2.imread(image_path, cv2.IMREAD_COLOR)\n\u001b[32m---> \u001b[39m\u001b[32m15\u001b[39m gray = \u001b[43mcv2\u001b[49m\u001b[43m.\u001b[49m\u001b[43mcvtColor\u001b[49m\u001b[43m(\u001b[49m\u001b[43mimg\u001b[49m\u001b[43m,\u001b[49m\u001b[43m \u001b[49m\u001b[43mcv2\u001b[49m\u001b[43m.\u001b[49m\u001b[43mCOLOR_BGR2GRAY\u001b[49m\u001b[43m)\u001b[49m\n\u001b[32m     17\u001b[39m \u001b[38;5;66;03m# Noise reduction\u001b[39;00m\n\u001b[32m     18\u001b[39m denoised = cv2.medianBlur(gray, \u001b[32m3\u001b[39m)\n",
            "\u001b[31merror\u001b[39m: OpenCV(4.11.0) D:\\a\\opencv-python\\opencv-python\\opencv\\modules\\imgproc\\src\\color.cpp:199: error: (-215:Assertion failed) !_src.empty() in function 'cv::cvtColor'\n"
          ]
        }
      ],
      "source": [
        "# Show preprocessed image\n",
        "processed = ocr_utils.preprocess_image(image_path)\n",
        "plt.imshow(processed, cmap=\"gray\")\n",
        "plt.title(\"Preprocessed Image\")\n",
        "plt.axis(\"off\")\n",
        "plt.show()"
      ]
    },
    {
      "cell_type": "code",
      "execution_count": null,
      "metadata": {},
      "outputs": [],
      "source": [
        "# Run pipeline\n",
        "results = ocr_utils.ocr_pipeline(image_path)\n",
        "print(\"Extracted Text:\\n\", results[\"raw_text\"])\n",
        "print(\"Parsed Values:\\n\", results[\"parsed_values\"])"
      ]
    }
  ],
  "metadata": {
    "kernelspec": {
      "display_name": "Python 3",
      "language": "python",
      "name": "python3"
    },
    "language_info": {
      "codemirror_mode": {
        "name": "ipython",
        "version": 3
      },
      "file_extension": ".py",
      "mimetype": "text/x-python",
      "name": "python",
      "nbconvert_exporter": "python",
      "pygments_lexer": "ipython3",
      "version": "3.12.10"
    }
  },
  "nbformat": 4,
  "nbformat_minor": 4
}
